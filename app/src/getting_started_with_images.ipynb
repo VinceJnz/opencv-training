{
 "cells": [
  {
   "cell_type": "code",
   "execution_count": null,
   "id": "552a3e16-5cc1-4a1d-8e5a-97f0a064bc51",
   "metadata": {},
   "outputs": [],
   "source": [
    "import os\n",
    "from zipfile import ZipFile\n",
    "from urllib.request import urlretrieve\n",
    "\n",
    "import cv2\n",
    "import numpy as np\n",
    "import matplotlib.pyplot as plt\n",
    "from IPython.display import Image\n",
    "\n",
    "%matplotlib inline"
   ]
  },
  {
   "cell_type": "code",
   "execution_count": null,
   "id": "71b341eb-524c-465b-b682-9be4a3d42355",
   "metadata": {},
   "outputs": [],
   "source": [
    "def download_and_unzip(url, save_path):\n",
    "    print(f\"Downloading and extracting assests....\", end=\"\")\n",
    "\n",
    "    # Downloading zip file using urllib package.\n",
    "    urlretrieve(url, save_path)\n",
    "\n",
    "    try:\n",
    "        # Extracting zip file using the zipfile package.\n",
    "        with ZipFile(save_path) as z:\n",
    "            # Extract ZIP file contents in the same directory.\n",
    "            z.extractall(os.path.split(save_path)[0])\n",
    "\n",
    "        print(\"Done\")\n",
    "\n",
    "    except Exception as e:\n",
    "        print(\"\\nInvalid file.\", e)"
   ]
  },
  {
   "cell_type": "code",
   "execution_count": null,
   "id": "7037a5ec-2836-4f75-a380-fd45019ccf73",
   "metadata": {},
   "outputs": [],
   "source": [
    "URL = r\"https://www.dropbox.com/s/qhhlqcica1nvtaw/opencv_bootcamp_assets_NB1.zip?dl=1\"\n",
    "\n",
    "asset_zip_path = os.path.join(os.getcwd(), \"opencv_bootcamp_assets_NB1.zip\")\n",
    "\n",
    "# Download if assest ZIP does not exists.\n",
    "if not os.path.exists(asset_zip_path):\n",
    "    download_and_unzip(URL, asset_zip_path)"
   ]
  },
  {
   "cell_type": "code",
   "execution_count": null,
   "id": "0f66aa91-c718-4bf1-a4d7-6ac911488238",
   "metadata": {},
   "outputs": [],
   "source": [
    "# Display 18x18 pixel image.\n",
    "Image(filename='checkerboard_18x18.png')"
   ]
  },
  {
   "cell_type": "code",
   "execution_count": null,
   "id": "11d2ff61-2061-4814-bffa-2e8712979820",
   "metadata": {},
   "outputs": [],
   "source": [
    "# Display 84x84 pixel image.\n",
    "Image(filename=\"checkerboard_84x84.jpg\")"
   ]
  },
  {
   "cell_type": "code",
   "execution_count": null,
   "id": "733ad448-a77a-4b9f-9073-99151f99fa93",
   "metadata": {},
   "outputs": [],
   "source": [
    "# Read image as gray scale.\n",
    "cb_img = cv2.imread(\"checkerboard_18x18.png\", 0)\n",
    "\n",
    "# Print the image data (pixel values), element of a 2D numpy array.\n",
    "# Each pixel value is 8-bits [0,255]\n",
    "print(cb_img)"
   ]
  },
  {
   "cell_type": "code",
   "execution_count": null,
   "id": "6d116ccc-9f90-421c-a491-30af61897756",
   "metadata": {},
   "outputs": [],
   "source": [
    "# print the size  of image\n",
    "print(\"Image size (H, W) is:\", cb_img.shape)\n",
    "\n",
    "# print data-type of image\n",
    "print(\"Data type of image is:\", cb_img.dtype)"
   ]
  },
  {
   "cell_type": "code",
   "execution_count": null,
   "id": "f4c0f557-2a3a-43fe-b479-7d79b076662e",
   "metadata": {},
   "outputs": [],
   "source": [
    "# Display image.\n",
    "plt.imshow(cb_img)"
   ]
  },
  {
   "cell_type": "code",
   "execution_count": null,
   "id": "1f3bc046-0ccb-4f53-a1b9-4a3907bb7ac1",
   "metadata": {},
   "outputs": [],
   "source": [
    "# Set color map to gray scale for proper rendering.\n",
    "plt.imshow(cb_img, cmap=\"gray\")"
   ]
  },
  {
   "cell_type": "code",
   "execution_count": null,
   "id": "7dd29f50-ef71-4bcb-8c33-4e25248cfe38",
   "metadata": {},
   "outputs": [],
   "source": [
    "# Read image as gray scale.\n",
    "cb_img_fuzzy = cv2.imread(\"checkerboard_fuzzy_18x18.jpg\", 0)\n",
    "\n",
    "# print image\n",
    "print(cb_img_fuzzy)\n",
    "\n",
    "# Display image.\n",
    "plt.imshow(cb_img_fuzzy, cmap=\"gray\")"
   ]
  },
  {
   "cell_type": "code",
   "execution_count": null,
   "id": "3a7ebfa3-eb1f-4ab8-9e09-d1b88c9642e1",
   "metadata": {},
   "outputs": [],
   "source": [
    "# Read and display Coca-Cola logo.\n",
    "Image(\"coca-cola-logo.png\")"
   ]
  },
  {
   "cell_type": "code",
   "execution_count": null,
   "id": "139e6c47-bb6b-4eb1-8cf4-5e5e351992d7",
   "metadata": {},
   "outputs": [],
   "source": [
    "# Read in image\n",
    "coke_img = cv2.imread(\"coca-cola-logo.png\", 1)\n",
    "\n",
    "# print the size  of image\n",
    "print(\"Image size (H, W, C) is:\", coke_img.shape)\n",
    "\n",
    "# print data-type of image\n",
    "print(\"Data type of image is:\", coke_img.dtype)"
   ]
  },
  {
   "cell_type": "code",
   "execution_count": null,
   "id": "6ec96ae5-b8d4-48d8-b6a3-20ae4a218323",
   "metadata": {},
   "outputs": [],
   "source": [
    "plt.imshow(coke_img)\n",
    "#  What happened?"
   ]
  },
  {
   "cell_type": "code",
   "execution_count": null,
   "id": "2605c490-8f64-40b0-b77a-9f2c88ea5082",
   "metadata": {},
   "outputs": [],
   "source": [
    "coke_img_channels_reversed = coke_img[:, :, ::-1]\n",
    "plt.imshow(coke_img_channels_reversed)"
   ]
  },
  {
   "cell_type": "code",
   "execution_count": null,
   "id": "a797e52b-22c2-43bd-a331-7248f0daf573",
   "metadata": {},
   "outputs": [],
   "source": [
    "# Split the image into the B,G,R components\n",
    "img_NZ_bgr = cv2.imread(\"New_Zealand_Lake.jpg\", cv2.IMREAD_COLOR)\n",
    "b, g, r = cv2.split(img_NZ_bgr)\n",
    "\n",
    "# Show the channels\n",
    "plt.figure(figsize=[20, 5])\n",
    "\n",
    "plt.subplot(141);plt.imshow(r, cmap=\"gray\");plt.title(\"Red Channel\")\n",
    "plt.subplot(142);plt.imshow(g, cmap=\"gray\");plt.title(\"Green Channel\")\n",
    "plt.subplot(143);plt.imshow(b, cmap=\"gray\");plt.title(\"Blue Channel\")\n",
    "\n",
    "# Merge the individual channels into a BGR image\n",
    "imgMerged = cv2.merge((b, g, r))\n",
    "# Show the merged output\n",
    "plt.subplot(144)\n",
    "plt.imshow(imgMerged[:, :, ::-1])\n",
    "plt.title(\"Merged Output\")"
   ]
  },
  {
   "cell_type": "code",
   "execution_count": null,
   "id": "573d585a-4de4-4147-bee2-ba9c163c3845",
   "metadata": {},
   "outputs": [],
   "source": [
    "# OpenCV stores color channels in a differnet order than most other applications (BGR vs RGB).\n",
    "img_NZ_rgb = cv2.cvtColor(img_NZ_bgr, cv2.COLOR_BGR2RGB)\n",
    "plt.imshow(img_NZ_rgb)"
   ]
  },
  {
   "cell_type": "code",
   "execution_count": null,
   "id": "e5828f3a-4155-4c5e-a657-c9e8e6cfee3f",
   "metadata": {},
   "outputs": [],
   "source": [
    "img_hsv = cv2.cvtColor(img_NZ_bgr, cv2.COLOR_BGR2HSV)\n",
    "\n",
    "# Split the image into the H,S,V components\n",
    "h,s,v = cv2.split(img_hsv)\n",
    "\n",
    "# Show the channels\n",
    "plt.figure(figsize=[20,5])\n",
    "plt.subplot(141);plt.imshow(h, cmap=\"gray\");plt.title(\"H Channel\");\n",
    "plt.subplot(142);plt.imshow(s, cmap=\"gray\");plt.title(\"S Channel\");\n",
    "plt.subplot(143);plt.imshow(v, cmap=\"gray\");plt.title(\"V Channel\");\n",
    "plt.subplot(144);plt.imshow(img_NZ_rgb);   plt.title(\"Original\");"
   ]
  },
  {
   "cell_type": "code",
   "execution_count": null,
   "id": "c918862a-26f0-4c2a-affd-5434e03190cd",
   "metadata": {},
   "outputs": [],
   "source": [
    "h_new = h + 10\n",
    "img_NZ_merged = cv2.merge((h_new, s, v))\n",
    "img_NZ_rgb = cv2.cvtColor(img_NZ_merged, cv2.COLOR_HSV2RGB)\n",
    "\n",
    "# Show the channels\n",
    "plt.figure(figsize=[20,5])\n",
    "plt.subplot(141);plt.imshow(h, cmap=\"gray\");plt.title(\"H Channel\");\n",
    "plt.subplot(142);plt.imshow(s, cmap=\"gray\");plt.title(\"S Channel\");\n",
    "plt.subplot(143);plt.imshow(v, cmap=\"gray\");plt.title(\"V Channel\");\n",
    "plt.subplot(144);plt.imshow(img_NZ_rgb);   plt.title(\"Original\");"
   ]
  },
  {
   "cell_type": "code",
   "execution_count": null,
   "id": "3cca4682-0dae-4d51-850c-d43ed3d1651d",
   "metadata": {},
   "outputs": [],
   "source": [
    "# save the image\n",
    "cv2.imwrite(\"New_Zealand_Lake_SAVED.png\", img_NZ_bgr)\n",
    "\n",
    "Image(filename='New_Zealand_Lake_SAVED.png')"
   ]
  },
  {
   "cell_type": "code",
   "execution_count": null,
   "id": "7b8d0e5b-31da-4236-a5d8-55f340b84a82",
   "metadata": {},
   "outputs": [],
   "source": [
    "# read the image as Color\n",
    "img_NZ_bgr = cv2.imread(\"New_Zealand_Lake_SAVED.png\", cv2.IMREAD_COLOR)\n",
    "print(\"img_NZ_bgr shape (H, W, C) is:\", img_NZ_bgr.shape)\n",
    "\n",
    "# read the image as Grayscaled\n",
    "img_NZ_gry = cv2.imread(\"New_Zealand_Lake_SAVED.png\", cv2.IMREAD_GRAYSCALE)\n",
    "print(\"img_NZ_gry shape (H, W) is:\", img_NZ_gry.shape)"
   ]
  },
  {
   "cell_type": "code",
   "execution_count": null,
   "id": "bd5dd473-4dfa-4c9c-945e-57a8a046f9f4",
   "metadata": {},
   "outputs": [],
   "source": []
  }
 ],
 "metadata": {
  "kernelspec": {
   "display_name": "Python 3 (ipykernel)",
   "language": "python",
   "name": "python3"
  },
  "language_info": {
   "codemirror_mode": {
    "name": "ipython",
    "version": 3
   },
   "file_extension": ".py",
   "mimetype": "text/x-python",
   "name": "python",
   "nbconvert_exporter": "python",
   "pygments_lexer": "ipython3",
   "version": "3.10.13"
  }
 },
 "nbformat": 4,
 "nbformat_minor": 5
}
